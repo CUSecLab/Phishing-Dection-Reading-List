{
 "cells": [
  {
   "cell_type": "markdown",
   "id": "a5c27d0d",
   "metadata": {},
   "source": [
    "# Create Baseline email file - Code is adapted from Kaggle"
   ]
  },
  {
   "cell_type": "code",
   "execution_count": null,
   "id": "43dbc8d8",
   "metadata": {},
   "outputs": [],
   "source": [
    "#!pip install numpy==1.22.4"
   ]
  },
  {
   "cell_type": "code",
   "execution_count": 3,
   "id": "b4b75edd",
   "metadata": {},
   "outputs": [],
   "source": [
    "\"\"\" RUN THIS CELL TO GET THE RIGHT FORMATTING \"\"\"\n",
    "import requests\n",
    "from IPython.core.display import HTML\n",
    "css_file = 'https://raw.githubusercontent.com/bsethwalker/clemson-cs4300/main/css/cpsc6300.css'\n",
    "styles = requests.get(css_file).text\n",
    "HTML(styles)\n",
    "\n",
    "from dotenv import load_dotenv\n",
    "import os\n",
    "from openai import OpenAI\n",
    "import time\n",
    "import glob\n",
    "\n",
    "import numpy as np\n",
    "import matplotlib.pyplot as plt\n",
    "\n",
    "import pandas as pd\n",
    "\n",
    "from sklearn.model_selection import train_test_split\n",
    "import pathlib\n",
    "from sklearn.utils import shuffle\n",
    "\n",
    "\n",
    "import warnings\n",
    "warnings.filterwarnings('ignore')\n",
    "\n",
    "load_dotenv()\n",
    "\n",
    "my_id = os.getenv(\"OPENAI_API_KEY\")\n",
    "\n",
    "client = OpenAI(\n",
    "    api_key=os.environ.get(\"my_id\"),\n",
    ")"
   ]
  },
  {
   "cell_type": "code",
   "execution_count": 4,
   "id": "4795f021",
   "metadata": {},
   "outputs": [],
   "source": [
    "dataframe = pd.read_csv(\"/Users/roulierk/Documents/Clemson/Thesis/Seven-Phishing-email-data/Enron.csv\")\n",
    "dataframe = shuffle(dataframe)\n",
    "dataframe.loc[dataframe[\"label\"]==0, \"label\"] = 0\n",
    "dataframe.loc[dataframe[\"label\"]==1, \"label\"] = 1\n",
    "dataframe[\"label\"] = dataframe[\"label\"].astype(float)"
   ]
  },
  {
   "cell_type": "code",
   "execution_count": 5,
   "id": "f7725892",
   "metadata": {},
   "outputs": [],
   "source": [
    "#print(dataframe['label'].to_string(index=False))"
   ]
  },
  {
   "cell_type": "code",
   "execution_count": 6,
   "id": "ae93f1c0",
   "metadata": {},
   "outputs": [
    {
     "name": "stdout",
     "output_type": "stream",
     "text": [
      "<class 'pandas.core.frame.DataFrame'>\n",
      "Int64Index: 29767 entries, 8797 to 2875\n",
      "Data columns (total 3 columns):\n",
      " #   Column   Non-Null Count  Dtype  \n",
      "---  ------   --------------  -----  \n",
      " 0   subject  29569 non-null  object \n",
      " 1   body     29767 non-null  object \n",
      " 2   label    29767 non-null  float64\n",
      "dtypes: float64(1), object(2)\n",
      "memory usage: 930.2+ KB\n"
     ]
    }
   ],
   "source": [
    "dataframe.info()"
   ]
  },
  {
   "cell_type": "markdown",
   "id": "70362bcd",
   "metadata": {},
   "source": [
    "### Reduce the dataset to 10.  Don't need all of 11k elements for this."
   ]
  },
  {
   "cell_type": "code",
   "execution_count": 7,
   "id": "210cd568",
   "metadata": {},
   "outputs": [
    {
     "name": "stdout",
     "output_type": "stream",
     "text": [
      "<class 'pandas.core.frame.DataFrame'>\n",
      "Int64Index: 10 entries, 8797 to 16306\n",
      "Data columns (total 3 columns):\n",
      " #   Column   Non-Null Count  Dtype  \n",
      "---  ------   --------------  -----  \n",
      " 0   subject  10 non-null     object \n",
      " 1   body     10 non-null     object \n",
      " 2   label    10 non-null     float64\n",
      "dtypes: float64(1), object(2)\n",
      "memory usage: 320.0+ bytes\n"
     ]
    }
   ],
   "source": [
    "# Getting first 10 rows from dataframe \n",
    "df_10 = dataframe.head(10) \n",
    "  \n",
    "#  Printing df_10 \n",
    "df_10.info()"
   ]
  },
  {
   "cell_type": "markdown",
   "id": "b983bd72",
   "metadata": {},
   "source": [
    "### Using the reduce dataset (10), Clean up the data, removing zeros and ones, remove \"status\""
   ]
  },
  {
   "cell_type": "code",
   "execution_count": 8,
   "id": "dce276d3",
   "metadata": {
    "scrolled": true
   },
   "outputs": [
    {
     "name": "stdout",
     "output_type": "stream",
     "text": [
      "['subject', 'body', 'label']\n"
     ]
    }
   ],
   "source": [
    "allColumns = list(df_10.columns)\n",
    "print(allColumns)"
   ]
  },
  {
   "cell_type": "markdown",
   "id": "e01ddc3d",
   "metadata": {},
   "source": [
    "### Add defaults to the file so that later we can play with temp, etc."
   ]
  },
  {
   "cell_type": "code",
   "execution_count": 9,
   "id": "199245ee",
   "metadata": {},
   "outputs": [],
   "source": [
    "new_df = df_10.assign(Legit=np.NaN, Phish=np.NaN, Unknown=np.NaN,temp=0, elapsed=0)  #add the defaults for now"
   ]
  },
  {
   "cell_type": "code",
   "execution_count": 10,
   "id": "792b3822",
   "metadata": {},
   "outputs": [
    {
     "data": {
      "text/html": [
       "<div>\n",
       "<style scoped>\n",
       "    .dataframe tbody tr th:only-of-type {\n",
       "        vertical-align: middle;\n",
       "    }\n",
       "\n",
       "    .dataframe tbody tr th {\n",
       "        vertical-align: top;\n",
       "    }\n",
       "\n",
       "    .dataframe thead th {\n",
       "        text-align: right;\n",
       "    }\n",
       "</style>\n",
       "<table border=\"1\" class=\"dataframe\">\n",
       "  <thead>\n",
       "    <tr style=\"text-align: right;\">\n",
       "      <th></th>\n",
       "      <th>subject</th>\n",
       "      <th>body</th>\n",
       "      <th>label</th>\n",
       "      <th>Legit</th>\n",
       "      <th>Phish</th>\n",
       "      <th>Unknown</th>\n",
       "      <th>temp</th>\n",
       "      <th>elapsed</th>\n",
       "    </tr>\n",
       "  </thead>\n",
       "  <tbody>\n",
       "    <tr>\n",
       "      <th>8797</th>\n",
       "      <td>re : dragon curves ( thai baht forecast )</td>\n",
       "      <td>we have prepared the attached two reports to a...</td>\n",
       "      <td>0.0</td>\n",
       "      <td>NaN</td>\n",
       "      <td>NaN</td>\n",
       "      <td>NaN</td>\n",
       "      <td>0</td>\n",
       "      <td>0</td>\n",
       "    </tr>\n",
       "    <tr>\n",
       "      <th>26099</th>\n",
       "      <td>( none )</td>\n",
       "      <td>dear , friend !\\nadvertising + talent manageme...</td>\n",
       "      <td>1.0</td>\n",
       "      <td>NaN</td>\n",
       "      <td>NaN</td>\n",
       "      <td>NaN</td>\n",
       "      <td>0</td>\n",
       "      <td>0</td>\n",
       "    </tr>\n",
       "    <tr>\n",
       "      <th>4538</th>\n",
       "      <td>earn huge profits starting today mc ncxb ueytfw</td>\n",
       "      <td>hello ,\\nif i could show you a business where ...</td>\n",
       "      <td>1.0</td>\n",
       "      <td>NaN</td>\n",
       "      <td>NaN</td>\n",
       "      <td>NaN</td>\n",
       "      <td>0</td>\n",
       "      <td>0</td>\n",
       "    </tr>\n",
       "    <tr>\n",
       "      <th>11077</th>\n",
       "      <td>response to ferc : eol</td>\n",
       "      <td>attached are the responses to the questions of...</td>\n",
       "      <td>0.0</td>\n",
       "      <td>NaN</td>\n",
       "      <td>NaN</td>\n",
       "      <td>NaN</td>\n",
       "      <td>0</td>\n",
       "      <td>0</td>\n",
       "    </tr>\n",
       "    <tr>\n",
       "      <th>28135</th>\n",
       "      <td>joint venture ( please , respond immediately )</td>\n",
       "      <td>from : barrister samson ajayi malolo\\nphilip a...</td>\n",
       "      <td>1.0</td>\n",
       "      <td>NaN</td>\n",
       "      <td>NaN</td>\n",
       "      <td>NaN</td>\n",
       "      <td>0</td>\n",
       "      <td>0</td>\n",
       "    </tr>\n",
       "    <tr>\n",
       "      <th>6761</th>\n",
       "      <td>re : telephone interview with the research group</td>\n",
       "      <td>hi mike :\\nthanks for responding so quickly . ...</td>\n",
       "      <td>0.0</td>\n",
       "      <td>NaN</td>\n",
       "      <td>NaN</td>\n",
       "      <td>NaN</td>\n",
       "      <td>0</td>\n",
       "      <td>0</td>\n",
       "    </tr>\n",
       "    <tr>\n",
       "      <th>28906</th>\n",
       "      <td>take a look at this profit - making powerhouse</td>\n",
       "      <td>wysak petroieum ( wysk )\\ncurrent price : 0 . ...</td>\n",
       "      <td>1.0</td>\n",
       "      <td>NaN</td>\n",
       "      <td>NaN</td>\n",
       "      <td>NaN</td>\n",
       "      <td>0</td>\n",
       "      <td>0</td>\n",
       "    </tr>\n",
       "    <tr>\n",
       "      <th>21285</th>\n",
       "      <td>book administrators - gas</td>\n",
       "      <td>the highlighted names on this list are the boo...</td>\n",
       "      <td>0.0</td>\n",
       "      <td>NaN</td>\n",
       "      <td>NaN</td>\n",
       "      <td>NaN</td>\n",
       "      <td>0</td>\n",
       "      <td>0</td>\n",
       "    </tr>\n",
       "    <tr>\n",
       "      <th>28911</th>\n",
       "      <td>do you know how others sav on top - selling ta...</td>\n",
       "      <td>it is a chemist - site that provides better se...</td>\n",
       "      <td>1.0</td>\n",
       "      <td>NaN</td>\n",
       "      <td>NaN</td>\n",
       "      <td>NaN</td>\n",
       "      <td>0</td>\n",
       "      <td>0</td>\n",
       "    </tr>\n",
       "    <tr>\n",
       "      <th>16306</th>\n",
       "      <td>new services customer</td>\n",
       "      <td>group ,\\njust wanted to let you know that begi...</td>\n",
       "      <td>0.0</td>\n",
       "      <td>NaN</td>\n",
       "      <td>NaN</td>\n",
       "      <td>NaN</td>\n",
       "      <td>0</td>\n",
       "      <td>0</td>\n",
       "    </tr>\n",
       "  </tbody>\n",
       "</table>\n",
       "</div>"
      ],
      "text/plain": [
       "                                                 subject  \\\n",
       "8797           re : dragon curves ( thai baht forecast )   \n",
       "26099                                           ( none )   \n",
       "4538     earn huge profits starting today mc ncxb ueytfw   \n",
       "11077                             response to ferc : eol   \n",
       "28135     joint venture ( please , respond immediately )   \n",
       "6761    re : telephone interview with the research group   \n",
       "28906     take a look at this profit - making powerhouse   \n",
       "21285                          book administrators - gas   \n",
       "28911  do you know how others sav on top - selling ta...   \n",
       "16306                              new services customer   \n",
       "\n",
       "                                                    body  label  Legit  Phish  \\\n",
       "8797   we have prepared the attached two reports to a...    0.0    NaN    NaN   \n",
       "26099  dear , friend !\\nadvertising + talent manageme...    1.0    NaN    NaN   \n",
       "4538   hello ,\\nif i could show you a business where ...    1.0    NaN    NaN   \n",
       "11077  attached are the responses to the questions of...    0.0    NaN    NaN   \n",
       "28135  from : barrister samson ajayi malolo\\nphilip a...    1.0    NaN    NaN   \n",
       "6761   hi mike :\\nthanks for responding so quickly . ...    0.0    NaN    NaN   \n",
       "28906  wysak petroieum ( wysk )\\ncurrent price : 0 . ...    1.0    NaN    NaN   \n",
       "21285  the highlighted names on this list are the boo...    0.0    NaN    NaN   \n",
       "28911  it is a chemist - site that provides better se...    1.0    NaN    NaN   \n",
       "16306  group ,\\njust wanted to let you know that begi...    0.0    NaN    NaN   \n",
       "\n",
       "       Unknown  temp  elapsed  \n",
       "8797       NaN     0        0  \n",
       "26099      NaN     0        0  \n",
       "4538       NaN     0        0  \n",
       "11077      NaN     0        0  \n",
       "28135      NaN     0        0  \n",
       "6761       NaN     0        0  \n",
       "28906      NaN     0        0  \n",
       "21285      NaN     0        0  \n",
       "28911      NaN     0        0  \n",
       "16306      NaN     0        0  "
      ]
     },
     "execution_count": 10,
     "metadata": {},
     "output_type": "execute_result"
    }
   ],
   "source": [
    "new_df"
   ]
  },
  {
   "cell_type": "markdown",
   "id": "d076b33b",
   "metadata": {},
   "source": [
    "### Create a new \"prompt\" file to drive the ChatGPT."
   ]
  },
  {
   "cell_type": "code",
   "execution_count": 11,
   "id": "b52339dc",
   "metadata": {},
   "outputs": [],
   "source": [
    "new_df.to_csv('/Users/roulierk/Documents/Clemson/Thesis/Seven-Phishing-email-data/test_email_prompt1.csv', header=False, index=False, index_label=None, mode='w')  "
   ]
  },
  {
   "cell_type": "code",
   "execution_count": null,
   "id": "d99c59cc",
   "metadata": {},
   "outputs": [],
   "source": []
  }
 ],
 "metadata": {
  "kernelspec": {
   "display_name": "Python 3 (ipykernel)",
   "language": "python",
   "name": "python3"
  },
  "language_info": {
   "codemirror_mode": {
    "name": "ipython",
    "version": 3
   },
   "file_extension": ".py",
   "mimetype": "text/x-python",
   "name": "python",
   "nbconvert_exporter": "python",
   "pygments_lexer": "ipython3",
   "version": "3.9.12"
  }
 },
 "nbformat": 4,
 "nbformat_minor": 5
}
