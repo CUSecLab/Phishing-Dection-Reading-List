{
 "cells": [
  {
   "cell_type": "markdown",
   "id": "a5c27d0d",
   "metadata": {},
   "source": [
    "# Code is adapted from Kaggle"
   ]
  },
  {
   "cell_type": "code",
   "execution_count": null,
   "id": "43dbc8d8",
   "metadata": {},
   "outputs": [],
   "source": [
    "#!pip install numpy==1.22.4"
   ]
  },
  {
   "cell_type": "code",
   "execution_count": 1,
   "id": "b4b75edd",
   "metadata": {},
   "outputs": [],
   "source": [
    "\"\"\" RUN THIS CELL TO GET THE RIGHT FORMATTING \"\"\"\n",
    "import requests\n",
    "from IPython.core.display import HTML\n",
    "css_file = 'https://raw.githubusercontent.com/bsethwalker/clemson-cs4300/main/css/cpsc6300.css'\n",
    "styles = requests.get(css_file).text\n",
    "HTML(styles)\n",
    "\n",
    "from dotenv import load_dotenv\n",
    "import os\n",
    "from openai import OpenAI\n",
    "import time\n",
    "import glob\n",
    "\n",
    "import numpy as np\n",
    "import matplotlib.pyplot as plt\n",
    "\n",
    "import pandas as pd\n",
    "\n",
    "from sklearn.model_selection import train_test_split\n",
    "import pathlib\n",
    "from sklearn.utils import shuffle\n",
    "\n",
    "\n",
    "import warnings\n",
    "warnings.filterwarnings('ignore')\n",
    "\n",
    "load_dotenv()\n",
    "\n",
    "my_id = os.getenv(\"OPENAI_API_KEY\")\n",
    "\n",
    "client = OpenAI(\n",
    "    api_key=os.environ.get(\"my_id\"),\n",
    ")"
   ]
  },
  {
   "cell_type": "code",
   "execution_count": 2,
   "id": "4795f021",
   "metadata": {},
   "outputs": [],
   "source": [
    "dataframe = pd.read_csv(\"/Users/roulierk/Documents/Clemson/Thesis/Seven-Phishing-email-data/Enron.csv\")\n",
    "dataframe = shuffle(dataframe)\n",
    "dataframe.loc[dataframe[\"label\"]==0, \"label\"] = 0\n",
    "dataframe.loc[dataframe[\"label\"]==1, \"label\"] = 1\n",
    "dataframe[\"label\"] = dataframe[\"label\"].astype(float)"
   ]
  },
  {
   "cell_type": "code",
   "execution_count": 4,
   "id": "f7725892",
   "metadata": {},
   "outputs": [],
   "source": [
    "#print(dataframe['label'].to_string(index=False))"
   ]
  },
  {
   "cell_type": "code",
   "execution_count": 5,
   "id": "ae93f1c0",
   "metadata": {},
   "outputs": [
    {
     "name": "stdout",
     "output_type": "stream",
     "text": [
      "<class 'pandas.core.frame.DataFrame'>\n",
      "Int64Index: 29767 entries, 2830 to 19632\n",
      "Data columns (total 3 columns):\n",
      " #   Column   Non-Null Count  Dtype  \n",
      "---  ------   --------------  -----  \n",
      " 0   subject  29569 non-null  object \n",
      " 1   body     29767 non-null  object \n",
      " 2   label    29767 non-null  float64\n",
      "dtypes: float64(1), object(2)\n",
      "memory usage: 930.2+ KB\n"
     ]
    }
   ],
   "source": [
    "dataframe.info()"
   ]
  },
  {
   "cell_type": "markdown",
   "id": "70362bcd",
   "metadata": {},
   "source": [
    "### Reduce the dataset to 10.  Don't need all of 11k elements for this."
   ]
  },
  {
   "cell_type": "code",
   "execution_count": 6,
   "id": "210cd568",
   "metadata": {},
   "outputs": [
    {
     "name": "stdout",
     "output_type": "stream",
     "text": [
      "<class 'pandas.core.frame.DataFrame'>\n",
      "Int64Index: 10 entries, 2830 to 17057\n",
      "Data columns (total 3 columns):\n",
      " #   Column   Non-Null Count  Dtype  \n",
      "---  ------   --------------  -----  \n",
      " 0   subject  10 non-null     object \n",
      " 1   body     10 non-null     object \n",
      " 2   label    10 non-null     float64\n",
      "dtypes: float64(1), object(2)\n",
      "memory usage: 320.0+ bytes\n"
     ]
    }
   ],
   "source": [
    "# Getting first 10 rows from dataframe \n",
    "df_10 = dataframe.head(10) \n",
    "  \n",
    "#  Printing df_10 \n",
    "df_10.info()"
   ]
  },
  {
   "cell_type": "markdown",
   "id": "b983bd72",
   "metadata": {},
   "source": [
    "### Using the reduce dataset (10), Clean up the data, removing zeros and ones, remove \"status\""
   ]
  },
  {
   "cell_type": "code",
   "execution_count": 7,
   "id": "dce276d3",
   "metadata": {
    "scrolled": true
   },
   "outputs": [
    {
     "name": "stdout",
     "output_type": "stream",
     "text": [
      "['subject', 'body', 'label']\n"
     ]
    }
   ],
   "source": [
    "allColumns = list(df_10.columns)\n",
    "print(allColumns)"
   ]
  },
  {
   "cell_type": "markdown",
   "id": "e01ddc3d",
   "metadata": {},
   "source": [
    "### Add defaults to the file so that later we can play with temp, etc."
   ]
  },
  {
   "cell_type": "code",
   "execution_count": 8,
   "id": "199245ee",
   "metadata": {},
   "outputs": [],
   "source": [
    "new_df = df_10.assign(Legit=np.NaN, Phish=np.NaN, Unknown=np.NaN,temp=0, elapsed=0)  #add the defaults for now"
   ]
  },
  {
   "cell_type": "code",
   "execution_count": 9,
   "id": "792b3822",
   "metadata": {},
   "outputs": [
    {
     "data": {
      "text/html": [
       "<div>\n",
       "<style scoped>\n",
       "    .dataframe tbody tr th:only-of-type {\n",
       "        vertical-align: middle;\n",
       "    }\n",
       "\n",
       "    .dataframe tbody tr th {\n",
       "        vertical-align: top;\n",
       "    }\n",
       "\n",
       "    .dataframe thead th {\n",
       "        text-align: right;\n",
       "    }\n",
       "</style>\n",
       "<table border=\"1\" class=\"dataframe\">\n",
       "  <thead>\n",
       "    <tr style=\"text-align: right;\">\n",
       "      <th></th>\n",
       "      <th>subject</th>\n",
       "      <th>body</th>\n",
       "      <th>label</th>\n",
       "      <th>Legit</th>\n",
       "      <th>Phish</th>\n",
       "      <th>Unknown</th>\n",
       "      <th>temp</th>\n",
       "      <th>elapsed</th>\n",
       "    </tr>\n",
       "  </thead>\n",
       "  <tbody>\n",
       "    <tr>\n",
       "      <th>2830</th>\n",
       "      <td>re : midcon transport usage tickets - - marol</td>\n",
       "      <td>bueno . . . it ' s done .\\ndaren j farmer @ ec...</td>\n",
       "      <td>0.0</td>\n",
       "      <td>NaN</td>\n",
       "      <td>NaN</td>\n",
       "      <td>NaN</td>\n",
       "      <td>0</td>\n",
       "      <td>0</td>\n",
       "    </tr>\n",
       "    <tr>\n",
       "      <th>22780</th>\n",
       "      <td>online approval for $ 5000 now</td>\n",
       "      <td>sincerely , your new offers staff\\nremove\\n</td>\n",
       "      <td>1.0</td>\n",
       "      <td>NaN</td>\n",
       "      <td>NaN</td>\n",
       "      <td>NaN</td>\n",
       "      <td>0</td>\n",
       "      <td>0</td>\n",
       "    </tr>\n",
       "    <tr>\n",
       "      <th>18091</th>\n",
       "      <td>femmerol - clinically proven to fight pms</td>\n",
       "      <td>to unsubscribe paliourg @ iit . demokritos . g...</td>\n",
       "      <td>1.0</td>\n",
       "      <td>NaN</td>\n",
       "      <td>NaN</td>\n",
       "      <td>NaN</td>\n",
       "      <td>0</td>\n",
       "      <td>0</td>\n",
       "    </tr>\n",
       "    <tr>\n",
       "      <th>104</th>\n",
       "      <td>hpl nom for november 10 , 2000</td>\n",
       "      <td>( see attached file : hplnl 110 . xls )\\n- hpl...</td>\n",
       "      <td>0.0</td>\n",
       "      <td>NaN</td>\n",
       "      <td>NaN</td>\n",
       "      <td>NaN</td>\n",
       "      <td>0</td>\n",
       "      <td>0</td>\n",
       "    </tr>\n",
       "    <tr>\n",
       "      <th>15567</th>\n",
       "      <td>here you go</td>\n",
       "      <td>enough door eat know mount . differ old here o...</td>\n",
       "      <td>1.0</td>\n",
       "      <td>NaN</td>\n",
       "      <td>NaN</td>\n",
       "      <td>NaN</td>\n",
       "      <td>0</td>\n",
       "      <td>0</td>\n",
       "    </tr>\n",
       "    <tr>\n",
       "      <th>21701</th>\n",
       "      <td>re : ebs position</td>\n",
       "      <td>june 16 full - time , but some half days befor...</td>\n",
       "      <td>0.0</td>\n",
       "      <td>NaN</td>\n",
       "      <td>NaN</td>\n",
       "      <td>NaN</td>\n",
       "      <td>0</td>\n",
       "      <td>0</td>\n",
       "    </tr>\n",
       "    <tr>\n",
       "      <th>23263</th>\n",
       "      <td>from bar . stephen kwesi</td>\n",
       "      <td>barrister stephen kwesi\\nkwesi consultants\\nac...</td>\n",
       "      <td>1.0</td>\n",
       "      <td>NaN</td>\n",
       "      <td>NaN</td>\n",
       "      <td>NaN</td>\n",
       "      <td>0</td>\n",
       "      <td>0</td>\n",
       "    </tr>\n",
       "    <tr>\n",
       "      <th>13215</th>\n",
       "      <td>ena trading track</td>\n",
       "      <td>all ,\\nthank you for your time yesterday inter...</td>\n",
       "      <td>0.0</td>\n",
       "      <td>NaN</td>\n",
       "      <td>NaN</td>\n",
       "      <td>NaN</td>\n",
       "      <td>0</td>\n",
       "      <td>0</td>\n",
       "    </tr>\n",
       "    <tr>\n",
       "      <th>21228</th>\n",
       "      <td>re : global operations controller forum</td>\n",
       "      <td>completed as below\\nenron capital &amp; trade reso...</td>\n",
       "      <td>0.0</td>\n",
       "      <td>NaN</td>\n",
       "      <td>NaN</td>\n",
       "      <td>NaN</td>\n",
       "      <td>0</td>\n",
       "      <td>0</td>\n",
       "    </tr>\n",
       "    <tr>\n",
       "      <th>17057</th>\n",
       "      <td>start date : 1 / 15 / 02 ; hourahead hour : 6 ;</td>\n",
       "      <td>start date : 1 / 15 / 02 ; hourahead hour : 6 ...</td>\n",
       "      <td>0.0</td>\n",
       "      <td>NaN</td>\n",
       "      <td>NaN</td>\n",
       "      <td>NaN</td>\n",
       "      <td>0</td>\n",
       "      <td>0</td>\n",
       "    </tr>\n",
       "  </tbody>\n",
       "</table>\n",
       "</div>"
      ],
      "text/plain": [
       "                                               subject  \\\n",
       "2830     re : midcon transport usage tickets - - marol   \n",
       "22780                   online approval for $ 5000 now   \n",
       "18091        femmerol - clinically proven to fight pms   \n",
       "104                     hpl nom for november 10 , 2000   \n",
       "15567                                      here you go   \n",
       "21701                                re : ebs position   \n",
       "23263                         from bar . stephen kwesi   \n",
       "13215                                ena trading track   \n",
       "21228          re : global operations controller forum   \n",
       "17057  start date : 1 / 15 / 02 ; hourahead hour : 6 ;   \n",
       "\n",
       "                                                    body  label  Legit  Phish  \\\n",
       "2830   bueno . . . it ' s done .\\ndaren j farmer @ ec...    0.0    NaN    NaN   \n",
       "22780        sincerely , your new offers staff\\nremove\\n    1.0    NaN    NaN   \n",
       "18091  to unsubscribe paliourg @ iit . demokritos . g...    1.0    NaN    NaN   \n",
       "104    ( see attached file : hplnl 110 . xls )\\n- hpl...    0.0    NaN    NaN   \n",
       "15567  enough door eat know mount . differ old here o...    1.0    NaN    NaN   \n",
       "21701  june 16 full - time , but some half days befor...    0.0    NaN    NaN   \n",
       "23263  barrister stephen kwesi\\nkwesi consultants\\nac...    1.0    NaN    NaN   \n",
       "13215  all ,\\nthank you for your time yesterday inter...    0.0    NaN    NaN   \n",
       "21228  completed as below\\nenron capital & trade reso...    0.0    NaN    NaN   \n",
       "17057  start date : 1 / 15 / 02 ; hourahead hour : 6 ...    0.0    NaN    NaN   \n",
       "\n",
       "       Unknown  temp  elapsed  \n",
       "2830       NaN     0        0  \n",
       "22780      NaN     0        0  \n",
       "18091      NaN     0        0  \n",
       "104        NaN     0        0  \n",
       "15567      NaN     0        0  \n",
       "21701      NaN     0        0  \n",
       "23263      NaN     0        0  \n",
       "13215      NaN     0        0  \n",
       "21228      NaN     0        0  \n",
       "17057      NaN     0        0  "
      ]
     },
     "execution_count": 9,
     "metadata": {},
     "output_type": "execute_result"
    }
   ],
   "source": [
    "new_df"
   ]
  },
  {
   "cell_type": "markdown",
   "id": "d076b33b",
   "metadata": {},
   "source": [
    "### Create a new \"prompt\" file to drive the ChatGPT."
   ]
  },
  {
   "cell_type": "code",
   "execution_count": 10,
   "id": "b52339dc",
   "metadata": {},
   "outputs": [],
   "source": [
    "new_df.to_csv('/Users/roulierk/Documents/Clemson/Thesis/Seven-Phishing-email-data/test_email_prompt1.csv', header=False, index=False, index_label=None, mode='w')  "
   ]
  },
  {
   "cell_type": "code",
   "execution_count": null,
   "id": "d99c59cc",
   "metadata": {},
   "outputs": [],
   "source": []
  }
 ],
 "metadata": {
  "kernelspec": {
   "display_name": "Python 3 (ipykernel)",
   "language": "python",
   "name": "python3"
  },
  "language_info": {
   "codemirror_mode": {
    "name": "ipython",
    "version": 3
   },
   "file_extension": ".py",
   "mimetype": "text/x-python",
   "name": "python",
   "nbconvert_exporter": "python",
   "pygments_lexer": "ipython3",
   "version": "3.9.12"
  }
 },
 "nbformat": 4,
 "nbformat_minor": 5
}
